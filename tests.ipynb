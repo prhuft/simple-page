{
 "cells": [
  {
   "cell_type": "code",
   "execution_count": 15,
   "metadata": {},
   "outputs": [],
   "source": [
    "import os\n",
    "from zipfile import ZipFile\n",
    "import pandas as pd"
   ]
  },
  {
   "cell_type": "code",
   "execution_count": 16,
   "metadata": {},
   "outputs": [],
   "source": [
    "# build the index.html\n",
    "\n",
    "files = [f for f in os.listdir('.') if \n",
    "         (os.path.isfile(f) and f[-4:]=='html')]\n",
    "with open('index.html', 'w') as f:\n",
    "    text = \"\"\"<html>\n",
    "    <h1>Welcome to my wepage</h1>\n",
    "    \n",
    "    <body><p>File directory</p><ul> \"\"\"\n",
    "    \n",
    "    for file in files:\n",
    "        text += \"<li><a href=\" + file + \">\" + file + \"</a></li>\"\n",
    "    text += \"</ul> \\n </body> \\n </html>\"\n",
    "    f.write(text)"
   ]
  },
  {
   "cell_type": "code",
   "execution_count": 17,
   "metadata": {},
   "outputs": [
    {
     "data": {
      "text/plain": [
       "['api.html',\n",
       " 'tests.ipynb',\n",
       " 'GlobalLandTemperaturesByCountry.csv',\n",
       " 'donate.html',\n",
       " 'browse.html',\n",
       " 'climate-change-earth-surface-temperature-data.zip',\n",
       " 'main.csv',\n",
       " 'GlobalLandTemperaturesByState.csv',\n",
       " '.ipynb_checkpoints',\n",
       " 'index.html',\n",
       " 'main.py',\n",
       " 'GlobalLandTemperaturesByMajorCity.csv',\n",
       " 'GlobalLandTemperaturesByCity.csv']"
      ]
     },
     "execution_count": 17,
     "metadata": {},
     "output_type": "execute_result"
    }
   ],
   "source": [
    "os.listdir('.')"
   ]
  },
  {
   "cell_type": "code",
   "execution_count": null,
   "metadata": {},
   "outputs": [],
   "source": [
    "kaggle datasets download -d berkeleyearth/climate-change-earth-surface-temperature-data"
   ]
  },
  {
   "cell_type": "markdown",
   "metadata": {},
   "source": [
    "### look at Tyler's example solution!!"
   ]
  },
  {
   "cell_type": "code",
   "execution_count": 24,
   "metadata": {
    "scrolled": true
   },
   "outputs": [
    {
     "data": {
      "text/html": [
       "<div>\n",
       "<style scoped>\n",
       "    .dataframe tbody tr th:only-of-type {\n",
       "        vertical-align: middle;\n",
       "    }\n",
       "\n",
       "    .dataframe tbody tr th {\n",
       "        vertical-align: top;\n",
       "    }\n",
       "\n",
       "    .dataframe thead th {\n",
       "        text-align: right;\n",
       "    }\n",
       "</style>\n",
       "<table border=\"1\" class=\"dataframe\">\n",
       "  <thead>\n",
       "    <tr style=\"text-align: right;\">\n",
       "      <th></th>\n",
       "      <th>dt</th>\n",
       "      <th>LandAverageTemperature</th>\n",
       "      <th>LandAverageTemperatureUncertainty</th>\n",
       "      <th>LandMaxTemperature</th>\n",
       "      <th>LandMaxTemperatureUncertainty</th>\n",
       "      <th>LandMinTemperature</th>\n",
       "      <th>LandMinTemperatureUncertainty</th>\n",
       "      <th>LandAndOceanAverageTemperature</th>\n",
       "      <th>LandAndOceanAverageTemperatureUncertainty</th>\n",
       "    </tr>\n",
       "  </thead>\n",
       "  <tbody>\n",
       "    <tr>\n",
       "      <th>2192</th>\n",
       "      <td>1932-09-01</td>\n",
       "      <td>12.310</td>\n",
       "      <td>0.268</td>\n",
       "      <td>18.216</td>\n",
       "      <td>0.213</td>\n",
       "      <td>6.340</td>\n",
       "      <td>0.226</td>\n",
       "      <td>16.263</td>\n",
       "      <td>0.133</td>\n",
       "    </tr>\n",
       "    <tr>\n",
       "      <th>2193</th>\n",
       "      <td>1932-10-01</td>\n",
       "      <td>9.682</td>\n",
       "      <td>0.232</td>\n",
       "      <td>15.424</td>\n",
       "      <td>0.160</td>\n",
       "      <td>3.900</td>\n",
       "      <td>0.243</td>\n",
       "      <td>15.280</td>\n",
       "      <td>0.123</td>\n",
       "    </tr>\n",
       "    <tr>\n",
       "      <th>2194</th>\n",
       "      <td>1932-11-01</td>\n",
       "      <td>5.908</td>\n",
       "      <td>0.186</td>\n",
       "      <td>11.551</td>\n",
       "      <td>0.204</td>\n",
       "      <td>0.014</td>\n",
       "      <td>0.278</td>\n",
       "      <td>14.175</td>\n",
       "      <td>0.122</td>\n",
       "    </tr>\n",
       "    <tr>\n",
       "      <th>2195</th>\n",
       "      <td>1932-12-01</td>\n",
       "      <td>3.527</td>\n",
       "      <td>0.196</td>\n",
       "      <td>8.888</td>\n",
       "      <td>0.215</td>\n",
       "      <td>-2.071</td>\n",
       "      <td>0.271</td>\n",
       "      <td>13.558</td>\n",
       "      <td>0.123</td>\n",
       "    </tr>\n",
       "    <tr>\n",
       "      <th>2196</th>\n",
       "      <td>1933-01-01</td>\n",
       "      <td>2.169</td>\n",
       "      <td>0.226</td>\n",
       "      <td>7.379</td>\n",
       "      <td>0.207</td>\n",
       "      <td>-3.453</td>\n",
       "      <td>0.277</td>\n",
       "      <td>13.260</td>\n",
       "      <td>0.129</td>\n",
       "    </tr>\n",
       "    <tr>\n",
       "      <th>...</th>\n",
       "      <td>...</td>\n",
       "      <td>...</td>\n",
       "      <td>...</td>\n",
       "      <td>...</td>\n",
       "      <td>...</td>\n",
       "      <td>...</td>\n",
       "      <td>...</td>\n",
       "      <td>...</td>\n",
       "      <td>...</td>\n",
       "    </tr>\n",
       "    <tr>\n",
       "      <th>3177</th>\n",
       "      <td>2014-10-01</td>\n",
       "      <td>10.330</td>\n",
       "      <td>0.076</td>\n",
       "      <td>16.066</td>\n",
       "      <td>0.111</td>\n",
       "      <td>4.689</td>\n",
       "      <td>0.126</td>\n",
       "      <td>16.029</td>\n",
       "      <td>0.059</td>\n",
       "    </tr>\n",
       "    <tr>\n",
       "      <th>3178</th>\n",
       "      <td>2014-11-01</td>\n",
       "      <td>6.713</td>\n",
       "      <td>0.121</td>\n",
       "      <td>12.284</td>\n",
       "      <td>0.124</td>\n",
       "      <td>1.313</td>\n",
       "      <td>0.115</td>\n",
       "      <td>14.899</td>\n",
       "      <td>0.064</td>\n",
       "    </tr>\n",
       "    <tr>\n",
       "      <th>3179</th>\n",
       "      <td>2014-12-01</td>\n",
       "      <td>4.850</td>\n",
       "      <td>0.090</td>\n",
       "      <td>10.190</td>\n",
       "      <td>0.148</td>\n",
       "      <td>-0.331</td>\n",
       "      <td>0.123</td>\n",
       "      <td>14.410</td>\n",
       "      <td>0.062</td>\n",
       "    </tr>\n",
       "    <tr>\n",
       "      <th>3180</th>\n",
       "      <td>2015-01-01</td>\n",
       "      <td>3.881</td>\n",
       "      <td>0.130</td>\n",
       "      <td>9.432</td>\n",
       "      <td>0.090</td>\n",
       "      <td>-1.518</td>\n",
       "      <td>0.097</td>\n",
       "      <td>14.255</td>\n",
       "      <td>0.066</td>\n",
       "    </tr>\n",
       "    <tr>\n",
       "      <th>3181</th>\n",
       "      <td>2015-02-01</td>\n",
       "      <td>4.664</td>\n",
       "      <td>0.121</td>\n",
       "      <td>10.497</td>\n",
       "      <td>0.092</td>\n",
       "      <td>-1.138</td>\n",
       "      <td>0.113</td>\n",
       "      <td>14.564</td>\n",
       "      <td>0.067</td>\n",
       "    </tr>\n",
       "  </tbody>\n",
       "</table>\n",
       "<p>990 rows × 9 columns</p>\n",
       "</div>"
      ],
      "text/plain": [
       "              dt  LandAverageTemperature  LandAverageTemperatureUncertainty  \\\n",
       "2192  1932-09-01                  12.310                              0.268   \n",
       "2193  1932-10-01                   9.682                              0.232   \n",
       "2194  1932-11-01                   5.908                              0.186   \n",
       "2195  1932-12-01                   3.527                              0.196   \n",
       "2196  1933-01-01                   2.169                              0.226   \n",
       "...          ...                     ...                                ...   \n",
       "3177  2014-10-01                  10.330                              0.076   \n",
       "3178  2014-11-01                   6.713                              0.121   \n",
       "3179  2014-12-01                   4.850                              0.090   \n",
       "3180  2015-01-01                   3.881                              0.130   \n",
       "3181  2015-02-01                   4.664                              0.121   \n",
       "\n",
       "      LandMaxTemperature  LandMaxTemperatureUncertainty  LandMinTemperature  \\\n",
       "2192              18.216                          0.213               6.340   \n",
       "2193              15.424                          0.160               3.900   \n",
       "2194              11.551                          0.204               0.014   \n",
       "2195               8.888                          0.215              -2.071   \n",
       "2196               7.379                          0.207              -3.453   \n",
       "...                  ...                            ...                 ...   \n",
       "3177              16.066                          0.111               4.689   \n",
       "3178              12.284                          0.124               1.313   \n",
       "3179              10.190                          0.148              -0.331   \n",
       "3180               9.432                          0.090              -1.518   \n",
       "3181              10.497                          0.092              -1.138   \n",
       "\n",
       "      LandMinTemperatureUncertainty  LandAndOceanAverageTemperature  \\\n",
       "2192                          0.226                          16.263   \n",
       "2193                          0.243                          15.280   \n",
       "2194                          0.278                          14.175   \n",
       "2195                          0.271                          13.558   \n",
       "2196                          0.277                          13.260   \n",
       "...                             ...                             ...   \n",
       "3177                          0.126                          16.029   \n",
       "3178                          0.115                          14.899   \n",
       "3179                          0.123                          14.410   \n",
       "3180                          0.097                          14.255   \n",
       "3181                          0.113                          14.564   \n",
       "\n",
       "      LandAndOceanAverageTemperatureUncertainty  \n",
       "2192                                      0.133  \n",
       "2193                                      0.123  \n",
       "2194                                      0.122  \n",
       "2195                                      0.123  \n",
       "2196                                      0.129  \n",
       "...                                         ...  \n",
       "3177                                      0.059  \n",
       "3178                                      0.064  \n",
       "3179                                      0.062  \n",
       "3180                                      0.066  \n",
       "3181                                      0.067  \n",
       "\n",
       "[990 rows x 9 columns]"
      ]
     },
     "execution_count": 24,
     "metadata": {},
     "output_type": "execute_result"
    }
   ],
   "source": [
    "# see what our data looks like\n",
    "with open('main.csv') as f:\n",
    "    df = pd.read_csv(f)\n",
    "# len(df[:1000\n",
    "df[-1000:].head(-10)"
   ]
  },
  {
   "cell_type": "code",
   "execution_count": 83,
   "metadata": {},
   "outputs": [
    {
     "name": "stdout",
     "output_type": "stream",
     "text": [
      "ho\n",
      "None\n",
      "ho\n",
      "cheerio\n"
     ]
    }
   ],
   "source": [
    "counts = {}\n",
    "mystr = \"\"\n",
    "\n",
    "def counts_dec(fn):\n",
    "    def wrapper(*args):\n",
    "        for arg in args:\n",
    "            if arg not in counts:\n",
    "                counts[arg] = 0\n",
    "            counts[arg] += 1\n",
    "        return fn(*args)\n",
    "    return wrapper\n",
    "\n",
    "# def str_app(fn):\n",
    "#     global mystr\n",
    "#     def wrap(*args):\n",
    "#         for arg in args:\n",
    "#             mystr += str(arg)\n",
    "#         return fn(*args)\n",
    "#     return wrap\n",
    "\n",
    "@counts_dec\n",
    "def f(x=None):\n",
    "    print(x)\n",
    "    \n",
    "f('ho')\n",
    "f()\n",
    "f('ho')\n",
    "f('cheerio')"
   ]
  },
  {
   "cell_type": "code",
   "execution_count": 84,
   "metadata": {},
   "outputs": [
    {
     "data": {
      "text/plain": [
       "{'ho': 2, 'cheerio': 1}"
      ]
     },
     "execution_count": 84,
     "metadata": {},
     "output_type": "execute_result"
    }
   ],
   "source": [
    "counts"
   ]
  },
  {
   "cell_type": "code",
   "execution_count": 71,
   "metadata": {},
   "outputs": [],
   "source": [
    "\"hula\""
   ]
  },
  {
   "cell_type": "code",
   "execution_count": 72,
   "metadata": {},
   "outputs": [
    {
     "data": {
      "text/plain": [
       "'he'"
      ]
     },
     "execution_count": 72,
     "metadata": {},
     "output_type": "execute_result"
    }
   ],
   "source": [
    "mystr"
   ]
  },
  {
   "cell_type": "code",
   "execution_count": 96,
   "metadata": {},
   "outputs": [
    {
     "data": {
      "text/plain": [
       "'b'"
      ]
     },
     "execution_count": 96,
     "metadata": {},
     "output_type": "execute_result"
    }
   ],
   "source": [
    "visit_dict = {'a': 5, 'b': 8}\n",
    "sorted([(idx,visit_dict[idx]) for idx in visit_dict],key=lambda x: 5-int(x[1]))[0][0]"
   ]
  },
  {
   "cell_type": "code",
   "execution_count": 105,
   "metadata": {},
   "outputs": [
    {
     "data": {
      "text/plain": [
       "(3, 1)"
      ]
     },
     "execution_count": 105,
     "metadata": {},
     "output_type": "execute_result"
    }
   ],
   "source": [
    "c = 1\n",
    "def foo(x):\n",
    "    global c\n",
    "    if x > 5:\n",
    "        c = 2\n",
    "    x -= c\n",
    "    return x\n",
    "foo(4), c"
   ]
  },
  {
   "cell_type": "code",
   "execution_count": 101,
   "metadata": {},
   "outputs": [
    {
     "ename": "UnboundLocalError",
     "evalue": "local variable 'c' referenced before assignment",
     "output_type": "error",
     "traceback": [
      "\u001b[0;31m---------------------------------------------------------------------------\u001b[0m",
      "\u001b[0;31mUnboundLocalError\u001b[0m                         Traceback (most recent call last)",
      "\u001b[0;32m<ipython-input-101-a9edc735bc6b>\u001b[0m in \u001b[0;36m<module>\u001b[0;34m\u001b[0m\n\u001b[0;32m----> 1\u001b[0;31m \u001b[0mfoo\u001b[0m\u001b[0;34m(\u001b[0m\u001b[0;36m4\u001b[0m\u001b[0;34m)\u001b[0m\u001b[0;34m\u001b[0m\u001b[0;34m\u001b[0m\u001b[0m\n\u001b[0m",
      "\u001b[0;32m<ipython-input-100-39ed257a6096>\u001b[0m in \u001b[0;36mfoo\u001b[0;34m(x)\u001b[0m\n\u001b[1;32m      3\u001b[0m     \u001b[0;32mif\u001b[0m \u001b[0mx\u001b[0m \u001b[0;34m>\u001b[0m \u001b[0;36m5\u001b[0m\u001b[0;34m:\u001b[0m\u001b[0;34m\u001b[0m\u001b[0;34m\u001b[0m\u001b[0m\n\u001b[1;32m      4\u001b[0m         \u001b[0mc\u001b[0m \u001b[0;34m=\u001b[0m \u001b[0;36m2\u001b[0m\u001b[0;34m\u001b[0m\u001b[0;34m\u001b[0m\u001b[0m\n\u001b[0;32m----> 5\u001b[0;31m     \u001b[0mx\u001b[0m \u001b[0;34m-=\u001b[0m \u001b[0mc\u001b[0m\u001b[0;34m\u001b[0m\u001b[0;34m\u001b[0m\u001b[0m\n\u001b[0m\u001b[1;32m      6\u001b[0m     \u001b[0;32mreturn\u001b[0m \u001b[0mx\u001b[0m\u001b[0;34m\u001b[0m\u001b[0;34m\u001b[0m\u001b[0m\n",
      "\u001b[0;31mUnboundLocalError\u001b[0m: local variable 'c' referenced before assignment"
     ]
    }
   ],
   "source": []
  },
  {
   "cell_type": "code",
   "execution_count": null,
   "metadata": {},
   "outputs": [],
   "source": []
  }
 ],
 "metadata": {
  "kernelspec": {
   "display_name": "Python 3",
   "language": "python",
   "name": "python3"
  },
  "language_info": {
   "codemirror_mode": {
    "name": "ipython",
    "version": 3
   },
   "file_extension": ".py",
   "mimetype": "text/x-python",
   "name": "python",
   "nbconvert_exporter": "python",
   "pygments_lexer": "ipython3",
   "version": "3.6.9"
  }
 },
 "nbformat": 4,
 "nbformat_minor": 4
}
